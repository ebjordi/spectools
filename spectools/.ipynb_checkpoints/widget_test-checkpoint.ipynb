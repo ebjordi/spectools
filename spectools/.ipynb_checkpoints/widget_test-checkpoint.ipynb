{
 "cells": [
  {
   "cell_type": "markdown",
   "id": "b9167901-ee64-4d1a-84ec-bb87c8a5beaf",
   "metadata": {},
   "source": [
    "Si tienen conda instalado, hay que correr:\n",
    "\n",
    "conda env create --name widgets --file wid-env.txt\n",
    "\n",
    "si todo sale bien, correr:\n",
    "\n",
    "`conda activate widgets`\n",
    "\n",
    "`python -m ipykernel install --user --name widgets --display-name \"widg\"`\n",
    "\n",
    "Si todo sale bien, pueden correr:\n",
    "\n",
    "`jupyter-lab`\n",
    "\n",
    "En el menú `Kernel` seleccionar `Change Kernel` y elegir `widg` si no está seleccionado por defecto"
   ]
  },
  {
   "cell_type": "code",
   "execution_count": 1,
   "id": "e6b7de17-d5b7-4c5d-b430-74a9cc545fd5",
   "metadata": {},
   "outputs": [],
   "source": [
    "import ipywidgets as widgets\n",
    "from ipywidgets.widgets import HBox,VBox\n",
    "import matplotlib.pyplot as plt\n",
    "import matplotlib as mpl\n",
    "from ipywidgets import interactive, interactive_output\n",
    "import numpy as np\n",
    "from scipy.optimize import curve_fit"
   ]
  },
  {
   "cell_type": "markdown",
   "id": "b2519cb3-62ca-452c-8f04-8ee9b27953ce",
   "metadata": {
    "tags": []
   },
   "source": [
    "# Widgets"
   ]
  },
  {
   "cell_type": "markdown",
   "id": "00163b9d-7544-4674-be86-7802c635feda",
   "metadata": {
    "jp-MarkdownHeadingCollapsed": true,
    "tags": []
   },
   "source": [
    "## Testtesttest"
   ]
  },
  {
   "cell_type": "code",
   "execution_count": null,
   "id": "795912f0-2d42-4225-99b8-5efe1eefacc2",
   "metadata": {},
   "outputs": [],
   "source": [
    "widgets.IntSlider()"
   ]
  },
  {
   "cell_type": "code",
   "execution_count": null,
   "id": "d954434f-68df-4f15-a562-68396e489280",
   "metadata": {},
   "outputs": [],
   "source": [
    "a = widgets.FloatText()\n",
    "b = widgets.FloatSlider()\n",
    "display(a,b)\n",
    "\n",
    "mylink = widgets.jslink((a, 'value'), (b, 'value'))"
   ]
  },
  {
   "cell_type": "code",
   "execution_count": null,
   "id": "7ec675bb-6b25-45d2-b970-23553b779690",
   "metadata": {},
   "outputs": [],
   "source": [
    "c=widgets.FloatRangeSlider(\n",
    "    value=[5, 7.5],\n",
    "    min=0,\n",
    "    max=10.0,\n",
    "    step=0.1,\n",
    "    description='Test:',\n",
    "    disabled=False,\n",
    "    continuous_update=False,\n",
    "    orientation='horizontal',\n",
    "    readout=True,\n",
    "    readout_format='.3f',\n",
    ")\n",
    "display(c)"
   ]
  },
  {
   "cell_type": "markdown",
   "id": "11e2c3f7-c8c6-4510-b723-ee10c5f92847",
   "metadata": {
    "tags": []
   },
   "source": [
    "## Funciones"
   ]
  },
  {
   "cell_type": "code",
   "execution_count": 2,
   "id": "79c50d6d-df2d-4d69-9040-e01a42fd4c85",
   "metadata": {},
   "outputs": [],
   "source": [
    "#Es mecesario correr esta celda\n",
    "def mask_line(x,y,a,b):\n",
    "    x_ma=np.ma.masked_outside(x,a,b)\n",
    "    mask = np.ma.getmask(x_ma)\n",
    "    f_ma=np.ma.array(y,mask=mask)    \n",
    "    return x_ma,f_ma\n",
    "def gaussian(x,cont,inten,m,sigma):\n",
    "    return cont - inten*np.exp(-((x-m)/sigma)**2)\n",
    "def gaussians(x,cont,inten1,m1,sigma1,inten2,m2,sigma2):\n",
    "    return cont - inten1*np.exp(-((x-m1)/sigma1)**2) - inten2*np.exp(-((x-m2)/sigma2)**2)"
   ]
  },
  {
   "cell_type": "markdown",
   "id": "52f6aa5d-d874-415c-8079-8ea3fecf8208",
   "metadata": {
    "jp-MarkdownHeadingCollapsed": true,
    "tags": []
   },
   "source": [
    "### No implementado"
   ]
  },
  {
   "cell_type": "code",
   "execution_count": null,
   "id": "7533e1fd-1b2e-43e2-8991-f0665a9792fb",
   "metadata": {},
   "outputs": [],
   "source": [
    "c=1\n",
    "m=130\n",
    "sigma=0.2\n",
    "inten=0.2\n",
    "def gaussian(x,cont=1,inten=0.1,m=130,sigma=0.05):\n",
    "    return cont - inten*np.exp(-((x-m)/sigma)**2)\n",
    "xx = np.linspace(128, 132, num=2000)\n",
    "\n",
    "xx = np.linspace(128, 132, num=2000)\n",
    "faux=gaussian(xx)+np.random.normal(0.01,0.005,2000)\n",
    "def p(a,b):\n",
    "#    fig,ax=plt.subplots()\n",
    "    ax.set_ylim(0.85, 1.03)\n",
    "    ax.set_xlim(xx[0],xx[-1])\n",
    "    v,w=mask_line(xx,faux,a,b)\n",
    "    ax.plot(xx,faux,c='r',linewidth=0.5,label='line')\n",
    "    ax.plot(v,w,c='g',linewidth=0.55,label='selected range')\n",
    "\n",
    "def e(a,b,sigma,c,inten,m):\n",
    "    global p0,v,w\n",
    "#    fig,ax=plt.subplots()\n",
    "    ax.set_ylim(0.75, 1.03)\n",
    "    ax.set_xlim(xx[0],xx[-1])\n",
    "    v,w=mask_line(xx,faux,a,b)\n",
    "\n",
    "    ax.plot(xx, gaussian(xx,c,inten,m,sigma),c='b',linewidth=0.5,label='p0 selection')\n",
    "    ax.plot(xx,faux,c='grey',linewidth=0.5,label='line')\n",
    "    ax.plot(v,w,c='g',linewidth=0.5,label='selected for fit')\n",
    "    if fitted is True:\n",
    "        cont_f,intn_f,m_f,sigma_f=p1\n",
    "        ax.plot(x,gaussian(x,cont_f,intn_f,m_f,sigma_f),c='r',label='fitted line')\n",
    "    p0=[c,inten,m,sigma]\n",
    "    plt.show()"
   ]
  },
  {
   "cell_type": "markdown",
   "id": "9833b69b-30f4-4f97-a799-bd900c241226",
   "metadata": {
    "jp-MarkdownHeadingCollapsed": true,
    "tags": []
   },
   "source": [
    "## Plot interactivo"
   ]
  },
  {
   "cell_type": "markdown",
   "id": "0115e3f3-b9ff-4afb-8c15-4318b8a23a17",
   "metadata": {},
   "source": [
    "### Una gaussiana"
   ]
  },
  {
   "cell_type": "markdown",
   "id": "6563a0e6-9199-4f29-bdbf-43ab6a9fbf38",
   "metadata": {},
   "source": [
    "Generamos un vector entre 128 y 132 de 2000 puntos\n",
    "\n",
    "creo una linea falsa, la funcion `gaussian genera` un continuo menos una gaussiana (una linea artificial)\n",
    "\n",
    "np.random.normal genera un vector de 2000 con valores de ruido gaussiano, centrado en 0.01 y dispersion 0.005\n",
    "\n",
    "al sumarlos parece una linea falsa.\n",
    "\n",
    "`np.ma.masked_outside` nos deja elegir un rango que vamos a elegir más adelante"
   ]
  },
  {
   "cell_type": "code",
   "execution_count": 19,
   "id": "b5f8db19-77d8-4800-94b1-6a17653ad775",
   "metadata": {},
   "outputs": [
    {
     "data": {
      "text/plain": [
       "[<matplotlib.lines.Line2D at 0x7f04b0781030>]"
      ]
     },
     "execution_count": 19,
     "metadata": {},
     "output_type": "execute_result"
    },
    {
     "data": {
      "image/png": "[encoded data removed]",
      "text/plain": [
       "<Figure size 640x480 with 1 Axes>"
      ]
     },
     "metadata": {},
     "output_type": "display_data"
    }
   ],
   "source": [
    "xx = np.linspace(128, 132, num=2000)\n",
    "faux=gaussian(xx,cont=1,inten=0.1,m=130,sigma=0.05)+np.random.normal(0.01,0.005,2000)\n",
    "masked=np.ma.masked_outside(xx,129.5,131)\n",
    "mask = np.ma.getmask(masked)\n",
    "fauma=np.ma.array(faux,mask=mask)\n",
    "\n",
    "plt.plot(xx,faux)\n",
    "plt.plot(masked,fauma,linewidth=0.8)"
   ]
  },
  {
   "cell_type": "markdown",
   "id": "94f213cb-76de-432e-851e-30932538221a",
   "metadata": {},
   "source": [
    "Ahora pasa todo junto, el plot es interactivo y va a generar muchos sliders que aun no estan bien nombrados:\n",
    "- `a` es el extremo izquiero de seleccion\n",
    "- `b` el extremos derecho de la seleccion\n",
    "la selección es donde se hará el ajuste y se va a ver en verde\n",
    "- `v` `w` son los vectores de long de onda y flux, cortados en el rango [a,b]\n",
    "- `c` es el continuo\n",
    "- `inten` es la intensidad central de la linea\n",
    "- `m` es el centro ó, para nuestro uso, la longitud de onda central\n",
    "- `sigma` es la dispesion de la gaussiana o para nuestro uso FWHM\n",
    "Hasta aquí son parametros de entrada para el fit\n",
    "- [ ] `fit` calcula el fit y plotea (siempre que esta activado y se muevan los parametros de arriba, calculara un nuevo fit y lo graficará)\n",
    "pueden dejar marcado `fit` y ver cómo variar los parametros de entrada cambia el ajuste, por lo que noté yo el unico que afecta es la m\n",
    "\n",
    "los parámetros de entrada se van a guardar en la variable `p0`, y los de salida se guardan en `p1` y despues son usados para generar el plot rojo del ajuste"
   ]
  },
  {
   "cell_type": "code",
   "execution_count": null,
   "id": "12a086fc-7e39-4224-8678-3747a34d3905",
   "metadata": {},
   "outputs": [],
   "source": [
    "#Better widgets\n",
    "fit_range = widgets.FloatRangeSlider(\n",
    "    value=[129, 130],\n",
    "    min=xx[1],\n",
    "    max=xx[-2],\n",
    "    step=0.1,\n",
    "    description='Test:',\n",
    "    disabled=False,\n",
    "    continuous_update=True,\n",
    "    orientation='horizontal',\n",
    "    readout=True,\n",
    "    readout_format='.3f',\n",
    "    layout={'width':'400px'}\n",
    ")\n",
    "fit_button = widgets.ToggleButton(value=False,\n",
    "    description='Fit',\n",
    "    disabled=False,\n",
    "    button_style='', # 'success', 'info', 'warning', 'danger' or ''\n",
    "    tooltip='fit gaussians',\n",
    "    icon='check')"
   ]
  },
  {
   "cell_type": "code",
   "execution_count": null,
   "id": "dd29ac80-a21f-4397-a2be-5a29b3fd510b",
   "metadata": {},
   "outputs": [],
   "source": [
    "xx = np.linspace(128, 132, num=2000)\n",
    "faux=gaussian(xx,cont=1,inten=0.1,m=130,sigma=0.05)+np.random.normal(0.01,0.005,2000)\n",
    "masked=np.ma.masked_outside(xx,129.5,130.5)\n",
    "mask = np.ma.getmask(masked)\n",
    "fauma=np.ma.array(faux,mask=mask)\n",
    "def e(ab,sigma,c,inten,m,fit):\n",
    "    global p0,v,w,fig,ax\n",
    "    fig,ax=plt.subplots()\n",
    "    ax.set_ylim(0.85, 1.03)\n",
    "    ax.set_xlim(xx[0],xx[-1])\n",
    "    v,w=mask_line(xx,faux,ab[0],ab[1])\n",
    "    p0=[c,inten,m,sigma]\n",
    "    ax.plot(xx, gaussian(xx,c,inten,m,sigma),c='b',linewidth=0.5,label='p0 selection')\n",
    "    ax.plot(xx,faux,c='grey',linewidth=0.5,label='line')\n",
    "    ax.plot(v,w,c='g',linewidth=0.5,label='selected for fit')\n",
    "    if fit is True:\n",
    "        global p1\n",
    "        cont_f,intn_f,m_f,sigma_f=curve_fit(gaussian, v, w,p0)[0]\n",
    "        ax.plot(v,gaussian(v,cont_f,intn_f,m_f,sigma_f),c='r',label='fitted line')\n",
    "    plt.show()\n",
    "\n",
    "interactive_plot = interactive(e,ab=fit_range,inten=(0.01,1,0.05), m=(125, 135,0.5), sigma=(0.05, 0.4, 0.01),c=(0.7,1.2,0.01),fit=fit_button)\n",
    "#la linea de arriba dice el rango y el paso en que variaran los sliders, por ej `a` ira desde el principio del array longitud de onda, hasta la mitad, con un paso de 0.01\n",
    "\n",
    "output = interactive_plot.children[-1]\n",
    "for i in range(5):\n",
    "    interactive_plot.children[i].layout.width='400px'\n",
    "output.layout.height = '500px'\n",
    "interactive_plot #descomentar para probar 1 gaussiana\n"
   ]
  },
  {
   "cell_type": "markdown",
   "id": "c85824de-c09b-444c-8521-d02dbe008592",
   "metadata": {
    "tags": []
   },
   "source": [
    "## 2 gaussianas"
   ]
  },
  {
   "cell_type": "code",
   "execution_count": 3,
   "id": "499fd924-e483-428f-8d22-9486745e577d",
   "metadata": {},
   "outputs": [],
   "source": [
    "def gaussian(x,cont=1,inten=0.1,m=130,sigma=0.05):\n",
    "    return cont - inten*np.exp(-((x-m)/sigma)**2)\n",
    "def gaussians(x,cont,inten1,m1,sigma1,inten2,m2,sigma2):\n",
    "    return cont - inten1*np.exp(-((x-m1)/sigma1)**2) - inten2*np.exp(-((x-m2)/sigma2)**2)"
   ]
  },
  {
   "cell_type": "markdown",
   "id": "9bce2fdc-48ae-4625-b26d-363b1eff1c17",
   "metadata": {},
   "source": [
    "Ahora pasa todo junto, el plot es interactivo y va a generar muchos sliders que aun no estan bien nombrados:\n",
    "- `a` es el extremo izquiero de seleccion \n",
    "- `b` el extremos derecho de la seleccion\n",
    "la selección es donde se hará el ajuste y se va a ver en verde\n",
    "- `x` `y` son los vectores de long de onda y flux, cortados en el rango [a,b]\n",
    "- `c` es el continuo\n",
    "- `inten1,2` es la intensidad central de la linea 1 o 2\n",
    "- `m1,2` es el centro ó, para nuestro uso, la longitud de onda central 1 o 2\n",
    "- `sigma1,2` es la dispesion de la gaussiana o para nuestro uso FWHM 1 o 2\n",
    "Hasta aquí son parametros de entrada para el fit\n",
    "- [ ] `fit` calcula el fit y plotea (siempre que esta activado y se muevan los parametros de arriba, calculara un nuevo fit y lo graficará)\n",
    "pueden dejar marcado `fit` y ver cómo variar los parametros de entrada cambia el ajuste, el unico que afecta es la m, igual que el caso para una sola gaussiana\n",
    "- los parámetros de entrada se van a guardar en la variable `p02`, y los de salida se guardan en `p2` y despues son usados para generar el plot rojo del ajuste\n",
    "\n",
    "ATENCION: dejar marcado `fit` recalcula cada vez que movemos un slider y puede trabarse un poquito, fijensé si la compu se lo banca. En unos días lo voy a mejorar pero por ahora sirve para jugar"
   ]
  },
  {
   "cell_type": "code",
   "execution_count": 3,
   "id": "e77955cf-2a5a-4284-8c39-f996a0b7e5b1",
   "metadata": {},
   "outputs": [],
   "source": [
    "xx = np.linspace(128, 132, num=2000)\n",
    "faux=gaussians(xx,1,0.3,130,0.2,0.1,130.5,0.1)+np.random.normal(0.01,0.005,2000)\n",
    "masked=np.ma.masked_outside(xx,129.5,130.5)\n",
    "mask = np.ma.getmask(masked)\n",
    "fauma=np.ma.array(faux,mask=mask)\n",
    "\n",
    "#Better widgets\n",
    "fit_range = widgets.FloatRangeSlider(\n",
    "    value=[129, 130],\n",
    "    min=xx[1],\n",
    "    max=xx[-2],\n",
    "    step=0.1,\n",
    "    description='Range to fit:',\n",
    "    disabled=False,\n",
    "    continuous_update=True,\n",
    "    orientation='horizontal',\n",
    "    readout=True,\n",
    "    readout_format='.3f',\n",
    "    layout={'width':'500px'},\n",
    "    style = {'description_width': 'initial'}\n",
    ")\n",
    "plot_range = widgets.FloatRangeSlider(\n",
    "    value=[xx[1], xx[-1]],\n",
    "    min=xx[1],\n",
    "    max=xx[-1],\n",
    "    step=0.1,\n",
    "    description='Range to plot:',\n",
    "    disabled=False,\n",
    "    continuous_update=False,\n",
    "    orientation='horizontal',\n",
    "    readout=True,\n",
    "    readout_format='.3f',\n",
    "    layout={'width':'500px'},\n",
    "    style = {'description_width': 'initial'}\n",
    ")\n",
    "sigma1 = widgets.FloatSlider(\n",
    "    value = 0.05,\n",
    "    min = 0.01,\n",
    "    max = 0.3,\n",
    "    step = 0.01,\n",
    "    description = 'σ(FWHM) linea 1',\n",
    "    continuous_update=True,\n",
    "    readout_format='.3f',\n",
    "    layout={'width':'500px'},\n",
    "    style = {'description_width': 'initial'})\n",
    "bsigma1 = widgets.BoundedFloatText(\n",
    "    value = 0.05,\n",
    "    min = 0.01,\n",
    "    max = 0.3,\n",
    "    step = 0.01)\n",
    "\n",
    "sigma2 = widgets.FloatSlider(\n",
    "    value = 0.05,\n",
    "    min = 0.005,\n",
    "    max = 0.3,\n",
    "    step = 0.01,\n",
    "    description = 'σ(FWHM) linea 2',\n",
    "    continuous_update=True,\n",
    "    readout_format='.3f',\n",
    "    layout={'width':'500px'},style = {'description_width': 'initial'})\n",
    "bsigma2 = widgets.BoundedFloatText(\n",
    "    value = 0.05,\n",
    "    min = 0.01,\n",
    "    max = 0.3,\n",
    "    step = 0.01)\n",
    "\n",
    "cont = widgets.FloatSlider(\n",
    "    value = 1.01,\n",
    "    min = 0.91,\n",
    "    max = 1.31,\n",
    "    step = 0.02,\n",
    "    description = 'Nivel del continuo',\n",
    "    continuous_update=True,\n",
    "    readout_format='.3f',\n",
    "    layout={'width':'500px'},style = {'description_width': 'initial'})\n",
    "bcont = widgets.BoundedFloatText(\n",
    "    min = 0.91,\n",
    "    max = 1.31,\n",
    "    step = 0.02,)\n",
    "\n",
    "\n",
    "int1= widgets.FloatSlider(\n",
    "    value = 0.2,\n",
    "    min = 0.01,\n",
    "    max = 0.9,\n",
    "    step = 0.02,\n",
    "    description = 'Intensidad de linea 1',\n",
    "    continuous_update=True,\n",
    "    readout_format='.3f',\n",
    "    layout={'width':'500px'},style = {'description_width': 'initial'})\n",
    "bint1 = widgets.BoundedFloatText(   \n",
    "    min = 0.01,\n",
    "    max = 0.9,\n",
    "    step = 0.02)\n",
    "\n",
    "int2= widgets.FloatSlider(\n",
    "    value = 0.15,\n",
    "    min = 0.01,\n",
    "    max = 0.9,\n",
    "    step = 0.02,\n",
    "    description = 'Intensidad de linea 2',\n",
    "    continuous_update=True,\n",
    "    readout_format='.3f',\n",
    "    layout={'width':'500px'},style = {'description_width': 'initial'})\n",
    "bint2 = widgets.BoundedFloatText(\n",
    "    min = 0.01,\n",
    "    max = 0.9,\n",
    "    step = 0.02,)\n",
    "\n",
    "cent1= widgets.FloatSlider(\n",
    "    value = xx[900],\n",
    "    min = xx[0],\n",
    "    max = xx[-1],\n",
    "    step = 0.02,\n",
    "    description = 'Centro de linea 1',\n",
    "    continuous_update=True,\n",
    "    readout_format='.3f',\n",
    "    layout={'width':'500px'},style = {'description_width': 'initial'})\n",
    "bcent1 = widgets.BoundedFloatText(\n",
    "    min = xx[0],\n",
    "    max = xx[-1],\n",
    "    step = 0.02,\n",
    ")\n",
    "\n",
    "cent2= widgets.FloatSlider(\n",
    "    value = xx[1100],\n",
    "    min = xx[0],\n",
    "    max = xx[-1],\n",
    "    step = 0.02,\n",
    "    description = 'Centro de linea 2',\n",
    "    continuous_update=True,\n",
    "    readout_format='.3f',\n",
    "    layout={'width':'500px'},style = {'description_width': 'initial'})\n",
    "bcent2 = widgets.BoundedFloatText(\n",
    "    min = xx[0],\n",
    "    max = xx[-1],\n",
    "    step = 0.02)\n",
    "\n",
    "plot_fit_button = widgets.ToggleButton(value=False,\n",
    "    description='Plot Fit',\n",
    "    disabled=True,\n",
    "    button_style='', # 'success', 'info', 'warning', 'danger' or ''\n",
    "    tooltip='plot gaussians',\n",
    "    icon='graph',\n",
    "    continuous_update = False,\n",
    "    width='auto')\n",
    "\n",
    "link_button = widgets.Button(value=False,\n",
    "    description='link',\n",
    "    disabled=True,\n",
    "    button_style='', # 'success', 'info', 'warning', 'danger' or ''\n",
    "    tooltip='link fit results with sliders value',\n",
    "    icon='sliders',\n",
    "    width='auto')\n",
    "\n",
    "fit_button = widgets.Button(value=False, description='Fit Parameters',icon='wrench',width='50%')\n",
    "                            \n",
    "\n",
    "\n",
    "links = []\n",
    "#cl = widgets.link((cont,'value','min'),(bcont,'value','min'))\n",
    "param_wids = [cont,int1,cent1,sigma1,int2,cent2,sigma2]\n",
    "bparam_wids = [bcont,bint1,bcent1,bsigma1,bint2,bcent2,bsigma2]\n",
    "\n",
    "for w,b in zip(param_wids,bparam_wids):\n",
    "    links.append(widgets.link((w,'value'),(b,'value')))\n",
    "\n",
    "def fit_params(b):\n",
    "    global p2\n",
    "    p2=curve_fit(gaussians, x, y,p02)\n",
    "    plot_fit_button.disabled = False\n",
    "    \n",
    "def link_fit(b):\n",
    "    bparam_wids = [bcont,bint1,bcent1,bsigma1,bint2,bcent2,bsigma2]\n",
    "    for wid,val in zip(bparam_wids,p2[0]):\n",
    "        wid.value=val\n",
    "        \n"
   ]
  },
  {
   "cell_type": "code",
   "execution_count": 4,
   "id": "0c4badc8-2ff0-4c14-9731-29aebcc11d7b",
   "metadata": {},
   "outputs": [
    {
     "data": {
      "application/vnd.jupyter.widget-view+json": {
       "model_id": "7355c8a9606d44b6a4ea285c1afad004",
       "version_major": 2,
       "version_minor": 0
      },
      "text/plain": [
       "HBox(children=(VBox(children=(FloatRangeSlider(value=(128.00200100050026, 132.0), continuous_update=False, des…"
      ]
     },
     "metadata": {},
     "output_type": "display_data"
    }
   ],
   "source": [
    "xx = np.linspace(128, 132, num=2000)\n",
    "faux=gaussians(xx,1,0.3,130,0.2,0.1,130.5,0.1)+np.random.normal(0.01,0.005,2000)\n",
    "masked=np.ma.masked_outside(xx,129.5,130.5)\n",
    "mask = np.ma.getmask(masked)\n",
    "fauma=np.ma.array(faux,mask=mask)\n",
    "\n",
    "def e(rang,ab,c,inten1,m1,sigma1,inten2,m2,sigma2,plot_fit):\n",
    "    fig,ax=plt.subplots()\n",
    "\n",
    "    global p02,x,y#,fig,ax\n",
    "    c,inten1,m1,sigma1,inten2,m1,sigma1\n",
    "    ax.set_ylim(0.7, 1.03)\n",
    "    ax.set_xlim(rang[0],rang[1])\n",
    "    x,y=mask_line(xx,faux,ab[0],ab[1])\n",
    "    p02=[c,inten1,m1,sigma1,inten2,m2,sigma2]\n",
    "    ax.plot(xx, gaussian(xx,c,inten1,m1,sigma1),'--',c='blue',linewidth=1,label='p0 selection for line 1')\n",
    "    ax.plot(xx, gaussian(xx,c,inten2,m2,sigma2),'--',c='red',linewidth=1,label='p0 selection for line 2')\n",
    "    ax.plot(xx, gaussians(xx,c,inten1,m1,sigma1,inten2,m2,sigma2),c='k',linewidth=1,label='p0 selection')\n",
    "    ax.plot(xx,faux,c='grey',linewidth=0.7,alpha=0.5,label='line')\n",
    "    ax.plot(x,y,c='green',linewidth=0.9,label='selected for fit')\n",
    "#    plt.legend()\n",
    "\n",
    "    \n",
    "\n",
    "    if plot_fit is True:\n",
    "        cont_f,intn_f1,m_f1,sigma_f1,intn_f2,m_f2,sigma_f2=p2[0]        \n",
    "        ax.plot(x,gaussians(x,cont_f,intn_f1,m_f1,sigma_f1,intn_f2,m_f2,sigma_f2),c='r',alpha=0.5,label='fitted line')\n",
    "        link_button.disabled = False\n",
    "\n",
    "box_layout = widgets.Layout(display='flex',\n",
    "                    flex_flow='column',\n",
    "                    align_items='stretch',\n",
    "                    border='',\n",
    "                    width='40%')\n",
    "wids = widgets.VBox([plot_range,fit_range,\n",
    "                     HBox([cont,bcont]),\n",
    "                     HBox([int1,bint1]),\n",
    "                     HBox([cent1,bcent1]),\n",
    "                     HBox([sigma1,bsigma1]),\n",
    "                     HBox([int2,bint2]),\n",
    "                     HBox([cent2,bcent2]),\n",
    "                     HBox([sigma2,bsigma2]),\n",
    "                     HBox([fit_button,plot_fit_button,link_button],width='auto')],\n",
    "                     layout=box_layout)\n",
    "interactive_plot = interactive_output(e,{'rang':plot_range,'ab':fit_range,'c':cont,\n",
    "                               'inten1':int1, 'm1':cent1, 'sigma1':sigma1,\n",
    "                               'inten2':int2, 'm2':cent2, 'sigma2':sigma2,\n",
    "                               'plot_fit':plot_fit_button})\n",
    "\n",
    "link_button.on_click(link_fit)\n",
    "fit_button.on_click(fit_params)\n",
    "display(widgets.HBox([wids,interactive_plot]))"
   ]
  },
  {
   "cell_type": "code",
   "execution_count": 46,
   "id": "819b3b64-a553-4851-9864-a338b926d88b",
   "metadata": {},
   "outputs": [
    {
     "data": {
      "text/plain": [
       "0.09927736906374898"
      ]
     },
     "execution_count": 46,
     "metadata": {},
     "output_type": "execute_result"
    }
   ],
   "source": [
    "p2[0][-1]"
   ]
  },
  {
   "cell_type": "code",
   "execution_count": 24,
   "id": "1e635cb8-8d8e-4e57-9d48-6e2360560648",
   "metadata": {},
   "outputs": [
    {
     "name": "stdout",
     "output_type": "stream",
     "text": [
      "cont=1.009965824247898,\n",
      " int1=0.3003101222702103,µ=130.00032992968647,s=[1.99650620e-01 1.00367299e-01 1.30500095e+02 1.00729199e-01]\n"
     ]
    }
   ],
   "source": [
    "print(f\"cont={p2[0][0]},\\n int1={p2[0][1]},µ={p2[0][2]},s={p2[0][3:]}\")"
   ]
  },
  {
   "cell_type": "markdown",
   "id": "f543f1d3-ce86-44bf-b11e-e6ad85a7b433",
   "metadata": {},
   "source": [
    "La linea cyan muestra la gaussiana generada para los parametros 1, la magenta para la generada por parametros 2\n",
    "\n",
    "la negra es una suma de ambas(parecido a los que muestra iraf, solo que pre-fiteo) \n",
    "\n",
    "si estan muy separadas, la negra va a tapar las 2 indiduales; \n",
    "\n",
    "la roja es el ajuste."
   ]
  },
  {
   "cell_type": "code",
   "execution_count": null,
   "id": "3baf73f4-7aa0-423c-8fe0-a04a1c0c1a10",
   "metadata": {},
   "outputs": [],
   "source": [
    "p2"
   ]
  },
  {
   "cell_type": "markdown",
   "id": "7a397439-46e1-47fb-a54c-0cfb5c350de3",
   "metadata": {
    "tags": []
   },
   "source": [
    "## Unused"
   ]
  },
  {
   "cell_type": "code",
   "execution_count": null,
   "id": "7b325f24-fd0a-4b7f-b9cb-78c181c89e9b",
   "metadata": {},
   "outputs": [],
   "source": [
    "ranged=widgets.FloatRangeSlider(\n",
    "    value=[5, 7.5],\n",
    "    min=0,\n",
    "    max=10.0,\n",
    "    step=0.1,\n",
    "    description='Test:',\n",
    "    disabled=False,\n",
    "    continuous_update=False,\n",
    "    orientation='horizontal',\n",
    "    readout=True,\n",
    "    readout_format='.1f',\n",
    ")\n"
   ]
  },
  {
   "cell_type": "markdown",
   "id": "b50ed63a-2b9d-45d2-a2f9-96e4ee735ec3",
   "metadata": {
    "tags": []
   },
   "source": [
    "### Botones"
   ]
  },
  {
   "cell_type": "code",
   "execution_count": null,
   "id": "8c1046bd-6283-4056-9e9c-16d114cbb244",
   "metadata": {},
   "outputs": [],
   "source": [
    "#con parametros estimados de p0 devuelve p1\n",
    "fit_button = widgets.Button(description='fit gaussian')\n",
    "#display(fit_button,output)\n",
    "def fit_on_click(b):\n",
    "    global p1,fitted\n",
    "\n",
    "    p1=curve_fit(gaussian, v, w,p0)[0]\n",
    "    fitted = True\n",
    "\n",
    "    with output:\n",
    "        print(f\"input params where:{p0}\\n and are now {p1}\")\n",
    "        \n",
    "#fit_button.on_click(fit_on_click)"
   ]
  },
  {
   "cell_type": "code",
   "execution_count": null,
   "id": "d3567db4-b033-4833-8f58-eb1b16b260c7",
   "metadata": {},
   "outputs": [],
   "source": [
    "#replotea con losp parámetros de p1\n",
    "replot_button = widgets.Button(description='replot')\n",
    "#display(replot_button,output)\n",
    "def on_click_replot(b,p1):\n",
    "#    fig,ax=plt.subplots()\n",
    "    cont_f,intn_f,m_f,sigma_f=p1\n",
    "    ax.plot(xx,gaussian(xx,cont_f,intn_f,m_f,sigma_f),c='r',label='og')\n",
    "    ax.plot(xx,faux,c='b',linewidth=0.15,label='noisy')\n",
    "    ax.plot(v,w,c='g',linewidth=0.25,label='selected')\n",
    "    ax.legend()            \n",
    "#replot_button.on_click(on_click_replot(replot_button,p1))"
   ]
  },
  {
   "cell_type": "code",
   "execution_count": null,
   "id": "7dba47d4-2584-4f17-b340-89ac5d6be9ad",
   "metadata": {},
   "outputs": [],
   "source": [
    "cont_f,intn_f,m_f,sigma_f=fit[0]"
   ]
  },
  {
   "cell_type": "code",
   "execution_count": null,
   "id": "8e55ae18-c3c8-427e-a18a-0506c39e1303",
   "metadata": {},
   "outputs": [],
   "source": [
    "fig,ax=plt.subplots()\n",
    "ax.plot(x,d(x)+0.05,c='r',linewidth=0.2,label='og')\n",
    "ax.plot(x,faux,c='b',linewidth=0.2,label='noisy')\n",
    "ax.plot(masked,fauma,c='g',linewidth=0.2,label='selected')\n",
    "ax.plot(masked,d(x,cont_f,intn_f,m_f,sigma_f),linewidth=0.4,c='b')\n",
    "plt.legend()\n",
    "#el error esta mal sumado y el ajuste va a estar raro"
   ]
  },
  {
   "cell_type": "code",
   "execution_count": null,
   "id": "4e98079e-119f-48c9-b15c-309ccce492b4",
   "metadata": {},
   "outputs": [],
   "source": []
  }
 ],
 "metadata": {
  "kernelspec": {
   "display_name": "widg",
   "language": "python",
   "name": "widgets"
  },
  "language_info": {
   "codemirror_mode": {
    "name": "ipython",
    "version": 3
   },
   "file_extension": ".py",
   "mimetype": "text/x-python",
   "name": "python",
   "nbconvert_exporter": "python",
   "pygments_lexer": "ipython3",
   "version": "3.10.6"
  }
 },
 "nbformat": 4,
 "nbformat_minor": 5
}
