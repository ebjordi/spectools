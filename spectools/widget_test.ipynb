{
 "cells": [
  {
   "cell_type": "markdown",
   "id": "b9167901-ee64-4d1a-84ec-bb87c8a5beaf",
   "metadata": {},
   "source": [
    "Si tienen conda instalado, hay que correr:\n",
    "\n",
    "conda env create --name widgets --file wid-env.txt\n",
    "\n",
    "si todo sale bien, correr:\n",
    "\n",
    "`conda activate widgets`\n",
    "\n",
    "`python -m ipykernel install --user --name widgets --display-name \"widg\"`\n",
    "\n",
    "Si todo sale bien, pueden correr:\n",
    "\n",
    "`jupyter-lab`\n",
    "\n",
    "En el menú `Kernel` seleccionar `Change Kernel` y elegir `widg` si no está seleccionado por defecto\n",
    "\n",
    "\n",
    "\n",
    "\n",
    "\n",
    "Es importante ir a Kernel>Restart Kernel cada cierto tiempo, van a notar que si queda abierto mucho rato se hace lento."
   ]
  },
  {
   "cell_type": "code",
   "execution_count": 1,
   "id": "e6b7de17-d5b7-4c5d-b430-74a9cc545fd5",
   "metadata": {},
   "outputs": [],
   "source": [
    "import ipywidgets as widgets\n",
    "from ipywidgets.widgets import HBox,VBox\n",
    "import matplotlib.pyplot as plt\n",
    "import matplotlib as mpl\n",
    "from ipywidgets import interactive, interactive_output\n",
    "import numpy as np\n",
    "from scipy.optimize import curve_fit\n",
    "from IPython.display import clear_output"
   ]
  },
  {
   "cell_type": "code",
   "execution_count": 2,
   "id": "79c50d6d-df2d-4d69-9040-e01a42fd4c85",
   "metadata": {},
   "outputs": [],
   "source": [
    "#Es necesario correr esta celda\n",
    "def mask_line(x,y,a,b):\n",
    "    x_ma=np.ma.masked_outside(x,a,b)\n",
    "    mask = np.ma.getmask(x_ma)\n",
    "    f_ma=np.ma.array(y,mask=mask)    \n",
    "    return x_ma,f_ma\n",
    "def gaussian(x,cont,inten,m,sigma):\n",
    "    return cont - inten*np.exp(-((x-m)/sigma)**2)\n",
    "def gaussians(x,cont,inten1,m1,sigma1,inten2,m2,sigma2):\n",
    "    return cont - inten1*np.exp(-((x-m1)/sigma1)**2) - inten2*np.exp(-((x-m2)/sigma2)**2)"
   ]
  },
  {
   "cell_type": "markdown",
   "id": "b2519cb3-62ca-452c-8f04-8ee9b27953ce",
   "metadata": {
    "tags": []
   },
   "source": [
    "# Widgets"
   ]
  },
  {
   "cell_type": "markdown",
   "id": "00163b9d-7544-4674-be86-7802c635feda",
   "metadata": {
    "tags": []
   },
   "source": [
    "## Ejemplos de widgets"
   ]
  },
  {
   "cell_type": "code",
   "execution_count": null,
   "id": "16f67cd1-52bc-47bb-beef-34adbcfacdbc",
   "metadata": {},
   "outputs": [],
   "source": [
    "#Algunos widgets"
   ]
  },
  {
   "cell_type": "code",
   "execution_count": 3,
   "id": "795912f0-2d42-4225-99b8-5efe1eefacc2",
   "metadata": {},
   "outputs": [
    {
     "data": {
      "application/vnd.jupyter.widget-view+json": {
       "model_id": "d2446edf17c349f4a740d94ad70dfebb",
       "version_major": 2,
       "version_minor": 0
      },
      "text/plain": [
       "IntSlider(value=3, description='Oscar', max=11, min=2)"
      ]
     },
     "execution_count": 3,
     "metadata": {},
     "output_type": "execute_result"
    }
   ],
   "source": [
    "widgets.IntSlider(min=2,max=11,step=1,value=3,description='Oscar')"
   ]
  },
  {
   "cell_type": "code",
   "execution_count": 5,
   "id": "d954434f-68df-4f15-a562-68396e489280",
   "metadata": {},
   "outputs": [
    {
     "data": {
      "application/vnd.jupyter.widget-view+json": {
       "model_id": "8367937274d443ecb5a985700b3142cf",
       "version_major": 2,
       "version_minor": 0
      },
      "text/plain": [
       "FloatText(value=0.0)"
      ]
     },
     "metadata": {},
     "output_type": "display_data"
    },
    {
     "data": {
      "application/vnd.jupyter.widget-view+json": {
       "model_id": "8e257d0dadc143cda0eaf9bec06fcd6b",
       "version_major": 2,
       "version_minor": 0
      },
      "text/plain": [
       "FloatSlider(value=0.0)"
      ]
     },
     "metadata": {},
     "output_type": "display_data"
    }
   ],
   "source": [
    "a = widgets.FloatText()\n",
    "b = widgets.FloatSlider(readout_format='.2f',step=0.1)\n",
    "display(a,b)\n",
    "#unir el valor de 2 widgets (esto no funciona para todos)\n",
    "mylink = widgets.jslink((a, 'value'), (b, 'value'))"
   ]
  },
  {
   "cell_type": "code",
   "execution_count": 6,
   "id": "ef5fd44d-95be-4420-b634-92d577e2b670",
   "metadata": {},
   "outputs": [
    {
     "data": {
      "application/vnd.jupyter.widget-view+json": {
       "model_id": "8e257d0dadc143cda0eaf9bec06fcd6b",
       "version_major": 2,
       "version_minor": 0
      },
      "text/plain": [
       "FloatSlider(value=0.0)"
      ]
     },
     "metadata": {},
     "output_type": "display_data"
    },
    {
     "data": {
      "application/vnd.jupyter.widget-view+json": {
       "model_id": "e1bca302329943159086e304f34821d4",
       "version_major": 2,
       "version_minor": 0
      },
      "text/plain": [
       "FloatText(value=0.0)"
      ]
     },
     "metadata": {},
     "output_type": "display_data"
    }
   ],
   "source": [
    "c = widgets.FloatText(readout_format='.2f')\n",
    "display(b,c)\n",
    "\n",
    "mylink = widgets.jslink((b, 'value'), (c, 'value'))"
   ]
  },
  {
   "cell_type": "code",
   "execution_count": 7,
   "id": "7ec675bb-6b25-45d2-b970-23553b779690",
   "metadata": {},
   "outputs": [
    {
     "data": {
      "application/vnd.jupyter.widget-view+json": {
       "model_id": "a9dd8624f68f49b19056c880f16d691e",
       "version_major": 2,
       "version_minor": 0
      },
      "text/plain": [
       "FloatRangeSlider(value=(5.0, 7.5), continuous_update=False, description='Test:', max=10.0, readout_format='.3f…"
      ]
     },
     "metadata": {},
     "output_type": "display_data"
    }
   ],
   "source": [
    "c=widgets.FloatRangeSlider(\n",
    "    value=[5, 7.5],\n",
    "    min=0,\n",
    "    max=10.0,\n",
    "    step=0.1,\n",
    "    description='Test:',\n",
    "    disabled=False,\n",
    "    continuous_update=False,\n",
    "    orientation='horizontal',\n",
    "    readout=True,\n",
    "    readout_format='.3f',\n",
    ")\n",
    "display(c)"
   ]
  },
  {
   "cell_type": "markdown",
   "id": "9833b69b-30f4-4f97-a799-bd900c241226",
   "metadata": {
    "tags": []
   },
   "source": [
    "# Plot interactivo"
   ]
  },
  {
   "cell_type": "markdown",
   "id": "0115e3f3-b9ff-4afb-8c15-4318b8a23a17",
   "metadata": {},
   "source": [
    "## Una gaussiana"
   ]
  },
  {
   "cell_type": "markdown",
   "id": "6563a0e6-9199-4f29-bdbf-43ab6a9fbf38",
   "metadata": {},
   "source": [
    "Generamos un vector entre 128 y 132 de 2000 puntos\n",
    "\n",
    "creo una linea falsa, la funcion `gaussian` genera un continuo menos una gaussiana (una linea artificial)\n",
    "\n",
    "np.random.normal genera un vector de 2000 con valores de ruido gaussiano, centrado en 0.00 y dispersion 0.005\n",
    "\n",
    "al sumarlos parece una linea falsa.\n",
    "\n",
    "`np.ma.masked_outside` nos deja elegir un rango que vamos a elegir más adelante"
   ]
  },
  {
   "cell_type": "code",
   "execution_count": 8,
   "id": "b5f8db19-77d8-4800-94b1-6a17653ad775",
   "metadata": {},
   "outputs": [
    {
     "data": {
      "text/plain": [
       "[<matplotlib.lines.Line2D at 0x7f3550092560>]"
      ]
     },
     "execution_count": 8,
     "metadata": {},
     "output_type": "execute_result"
    },
    {
     "data": {
      "image/png": "[encoded data removed]",
      "text/plain": [
       "<Figure size 640x480 with 1 Axes>"
      ]
     },
     "metadata": {},
     "output_type": "display_data"
    }
   ],
   "source": [
    "xx0 = np.linspace(128, 132, num=2000)\n",
    "faux0=gaussian(xx0,cont=1,inten=0.1,m=130,sigma=0.05)+np.random.normal(0.00,0.005,2000)\n",
    "masked0=np.ma.masked_outside(xx0,129.5,131)\n",
    "mask0 = np.ma.getmask(masked0)\n",
    "fauma0=np.ma.array(faux0,mask=mask0)\n",
    "\n",
    "plt.plot(xx0,faux0)\n",
    "plt.plot(masked0,fauma0,linewidth=0.8)"
   ]
  },
  {
   "cell_type": "markdown",
   "id": "94f213cb-76de-432e-851e-30932538221a",
   "metadata": {},
   "source": [
    "Ahora pasa todo junto, el plot es interactivo y va a generar muchos sliders que aun no estan bien nombrados:\n",
    "- `a` es el extremo izquiero de seleccion\n",
    "- `b` el extremos derecho de la seleccion\n",
    "la selección es donde se hará el ajuste y se va a ver en verde\n",
    "- `v` `w` son los vectores de long de onda y flux, cortados en el rango [a,b]\n",
    "- `c` es el continuo\n",
    "- `inten` es la intensidad central de la linea\n",
    "- `m` es el centro ó, para nuestro uso, la longitud de onda central\n",
    "- `sigma` es la dispesion de la gaussiana\n",
    "Hasta aquí son parametros de entrada para el fit\n",
    "- [ ] `fit` calcula el fit y plotea (siempre que esta activado y se muevan los parametros de arriba, calculara un nuevo fit y lo graficará)\n",
    "pueden dejar marcado `fit` y ver cómo variar los parametros de entrada cambia el ajuste, por lo que noté yo el unico que afecta es la m\n",
    "\n",
    "los parámetros de entrada se van a guardar en la variable `p0`, y los de salida se guardan en `p1` y despues son usados para generar el plot rojo del ajuste"
   ]
  },
  {
   "cell_type": "code",
   "execution_count": null,
   "id": "e111e6ee-8ef3-40a8-97c9-baad7cd067ef",
   "metadata": {},
   "outputs": [],
   "source": [
    "#A partir de aquí correr todas las celdas"
   ]
  },
  {
   "cell_type": "markdown",
   "id": "ff4bbbbf-993a-4704-aa46-9109aa55bcf8",
   "metadata": {
    "tags": []
   },
   "source": [
    "### Widgets 1 gaussiana"
   ]
  },
  {
   "cell_type": "code",
   "execution_count": 9,
   "id": "12a086fc-7e39-4224-8678-3747a34d3905",
   "metadata": {},
   "outputs": [],
   "source": [
    "#Better widgets\n",
    "xx0 = np.linspace(128, 132, num=2000)\n",
    "\n",
    "\n",
    "#Better widgets\n",
    "fit_range1 = widgets.FloatRangeSlider(\n",
    "    value=[129, 130],\n",
    "    min=xx0[1],\n",
    "    max=xx0[-2],\n",
    "    step=0.1,\n",
    "    description='Range to fit:',\n",
    "    disabled=False,\n",
    "    continuous_update=True,\n",
    "    orientation='horizontal',\n",
    "    readout=True,\n",
    "    readout_format='.3f',\n",
    "    layout={'width':'600px'},\n",
    "    style = {'description_width': 'initial'}\n",
    ")\n",
    "\n",
    "plot_range1 = widgets.FloatRangeSlider(\n",
    "    value=[xx0[1], xx0[-1]],\n",
    "    min=xx0[1],\n",
    "    max=xx0[-1],\n",
    "    step=0.1,\n",
    "    description='Range to plot:',\n",
    "    disabled=False,\n",
    "    continuous_update=False,\n",
    "    orientation='horizontal',\n",
    "    readout=True,\n",
    "    readout_format='.3f',\n",
    "    layout={'width':'600px'},\n",
    "    style = {'description_width': 'initial'}\n",
    ")\n",
    "sigma = widgets.FloatSlider(\n",
    "    value = 0.05,\n",
    "    min = 0.01,\n",
    "    max = 0.3,\n",
    "    step = 0.01,\n",
    "    description = 'σ(FWHM) linea 1',\n",
    "    continuous_update=True,\n",
    "    readout_format='.3f',\n",
    "    layout={'width':'600px'},\n",
    "    style = {'description_width': 'initial'})\n",
    "\n",
    "bsigma = widgets.BoundedFloatText(\n",
    "    value = 0.05,\n",
    "    min = 0.01,\n",
    "    max = 0.3,\n",
    "    step = 0.01)\n",
    "\n",
    "\n",
    "cont1 = widgets.FloatSlider(\n",
    "    value = 1.01,\n",
    "    min = 0.91,\n",
    "    max = 1.31,\n",
    "    step = 0.02,\n",
    "    description = 'Nivel del continuo',\n",
    "    continuous_update=True,\n",
    "    readout_format='.3f',\n",
    "    layout={'width':'600px'},\n",
    "    style = {'description_width': 'initial'})\n",
    "bcont1 = widgets.BoundedFloatText(\n",
    "    min = 0.91,\n",
    "    max = 1.31,\n",
    "    step = 0.02,)\n",
    "\n",
    "\n",
    "intn= widgets.FloatSlider(\n",
    "    value = 0.2,\n",
    "    min = 0.01,\n",
    "    max = 0.9,\n",
    "    step = 0.02,\n",
    "    description = 'Intensidad de linea 1',\n",
    "    continuous_update=True,\n",
    "    readout_format='.3f',\n",
    "   layout={'width':'600px'},\n",
    "    style = {'description_width': 'initial'})\n",
    "bintn = widgets.BoundedFloatText(   \n",
    "    min = 0.01,\n",
    "    max = 0.9,\n",
    "    step = 0.02)\n",
    "\n",
    "\n",
    "cent= widgets.FloatSlider(\n",
    "    value = xx0[900],\n",
    "    min = xx0[0],\n",
    "    max = xx0[-1],\n",
    "    step = 0.02,\n",
    "    description = 'Centro de linea 1',\n",
    "    continuous_update=True,\n",
    "    readout_format='.3f',\n",
    "    layout={'width':'600px'},\n",
    "    style = {'description_width': 'initial'})\n",
    "bcent = widgets.BoundedFloatText(\n",
    "    min = xx0[0],\n",
    "    max = xx0[-1],\n",
    "    step = 0.02,\n",
    ")\n",
    "\n",
    "plot_fit_button1 = widgets.ToggleButton(value=False,\n",
    "    description='Plot Fit',\n",
    "    disabled=True,\n",
    "    button_style='', # 'success', 'info', 'warning', 'danger' or ''\n",
    "    tooltip='plot gaussians',\n",
    "    icon='graph',\n",
    "    continuous_update = False,\n",
    "    width='200px')\n",
    "\n",
    "link_button1 = widgets.Button(value=False,\n",
    "    description='link',\n",
    "    disabled=True,\n",
    "    button_style='', # 'success', 'info', 'warning', 'danger' or ''\n",
    "    tooltip='link fit results with sliders value',\n",
    "    icon='sliders',\n",
    "    width='200px')\n",
    "\n",
    "fit_button1 = widgets.Button(value=False, description='Fit Parameters',icon='wrench',width='200px')\n",
    "                            \n",
    "clear_button1 = widgets.Button(despcription='Stop Widget',icon='warning')\n",
    "\n",
    "\n",
    "links1 = []\n",
    "param_wids1 = [cont1,intn,cent,sigma]\n",
    "bparam_wids1 = [bcont1,bintn,bcent,bsigma]\n",
    "\n",
    "for w,b in zip(param_wids1,bparam_wids1):\n",
    "    links1.append(widgets.link((w,'value'),(b,'value')))\n",
    "\n",
    "def fit_params1(b):\n",
    "    global p1\n",
    "    p1=curve_fit(gaussian, v, w,p0)\n",
    "    plot_fit_button1.disabled = False\n",
    "    \n",
    "def link_fit1(b):\n",
    "    for wid,val in zip(bparam_wids1,p1[0]):\n",
    "        wid.value=val\n",
    "        \n",
    "\n",
    "fit_button1 = widgets.Button(\n",
    "    description='Fit',\n",
    "    disabled=False,\n",
    "    button_style='', # 'success', 'info', 'warning', 'danger' or ''\n",
    "    tooltip='fit gaussians',\n",
    "    icon='check')"
   ]
  },
  {
   "cell_type": "markdown",
   "id": "b5e55b4f-9103-4190-a195-b85e89669cbc",
   "metadata": {},
   "source": [
    "### APP 1"
   ]
  },
  {
   "cell_type": "code",
   "execution_count": 10,
   "id": "c84e3b66-ce1d-4257-9490-5056601ee96f",
   "metadata": {},
   "outputs": [],
   "source": [
    "xx0 = np.linspace(128, 132, num=2000)\n",
    "faux1=gaussian(xx0,1,0.3,130,0.2)+np.random.normal(0.00,0.005,2000)\n",
    "masked=np.ma.masked_outside(xx0,129.5,130.5)\n",
    "mask = np.ma.getmask(masked)\n",
    "fauma=np.ma.array(faux1,mask=mask)\n",
    "\n",
    "def d(rang,ab,c,inten,m,sigma,plot_fit1):\n",
    "    fig,ax=plt.subplots()\n",
    "\n",
    "    global p0,v,w#,fig,ax\n",
    "    ax.set_ylim(0.7, 1.03)\n",
    "    ax.set_xlim(rang[0],rang[1])\n",
    "    v,w=mask_line(xx0,faux1,ab[0],ab[1])\n",
    "    p0=[c,inten,m,sigma]\n",
    "    ax.plot(xx0, gaussian(xx0,c,inten,m,sigma),c='grey',linewidth=1,label='p0 selection')\n",
    "    ax.plot(xx0,faux1,c='grey',linewidth=0.7,alpha=0.5,label='line')\n",
    "    ax.plot(v,w,c='green',linewidth=0.9,label='selected for fit')\n",
    "#    plt.legend()\n",
    "\n",
    "    \n",
    "\n",
    "    if plot_fit1 is True:\n",
    "        cont1_f,intn_f,m_f,sigma_f=p1[0]        \n",
    "        ax.plot(v,gaussian(v,cont1_f,intn_f,m_f,sigma_f),c='orange',label='fitted line')\n",
    "        link_button1.disabled = False\n",
    "\n",
    "wids1 = widgets.VBox([plot_range1,fit_range1,\n",
    "                     HBox([cont1,bcont1]),\n",
    "                     HBox([intn,bintn]),\n",
    "                     HBox([cent,bcent]),\n",
    "                     HBox([sigma,bsigma]),\n",
    "                     HBox([fit_button1,plot_fit_button1,link_button1,clear_button1])\n",
    "                    ],)\n",
    "interactive_plot1 = interactive_output(d,{'rang':plot_range1,'ab':fit_range1,'c':cont1,\n",
    "                               'inten':intn, 'm':cent, 'sigma':sigma,\n",
    "                               'plot_fit1':plot_fit_button1})\n",
    "\n",
    "link_button1.on_click(link_fit1)\n",
    "fit_button1.on_click(fit_params1)\n",
    "app = widgets.AppLayout(header=None,\n",
    "          left_sidebar=wids1,\n",
    "          center=None,\n",
    "          right_sidebar=interactive_plot1,\n",
    "          footer=None,\n",
    "          pane_widths=['620px','0px','600px'],\n",
    "          )\n",
    "#app\n",
    "#tab = widgets.Tab()\n",
    "#tab.children = [app2,app2]\n",
    "#tab.titles = ['1 Linea','2 Lineas']\n",
    "#tab"
   ]
  },
  {
   "cell_type": "markdown",
   "id": "c85824de-c09b-444c-8521-d02dbe008592",
   "metadata": {
    "tags": []
   },
   "source": [
    "## 2 gaussianas"
   ]
  },
  {
   "cell_type": "markdown",
   "id": "9bce2fdc-48ae-4625-b26d-363b1eff1c17",
   "metadata": {},
   "source": [
    "Ahora pasa todo junto, el plot es interactivo y va a generar muchos sliders que aun no estan bien nombrados:\n",
    "- `a` es el extremo izquiero de seleccion \n",
    "- `b` el extremos derecho de la seleccion\n",
    "la selección es donde se hará el ajuste y se va a ver en verde\n",
    "- `x` `y` son los vectores de long de onda y flux, cortados en el rango [a,b]\n",
    "- `c` es el continuo\n",
    "- `inten1,2` es la intensidad central de la linea 1 o 2\n",
    "- `m1,2` es el centro ó, para nuestro uso, la longitud de onda central 1 o 2\n",
    "- `sigma1,2` es la dispesion de la gaussiana\n",
    "Hasta aquí son parametros de entrada para el fit\n",
    "- [ ] `fit` calcula el fit y plotea (siempre que esta activado y se muevan los parametros de arriba, calculara un nuevo fit y lo graficará)\n",
    "pueden dejar marcado `fit` y ver cómo variar los parametros de entrada cambia el ajuste, el unico que afecta es la m, igual que el caso para una sola gaussiana\n",
    "- los parámetros de entrada se van a guardar en la variable `p02`, y los de salida se guardan en `p2` y despues son usados para generar el plot rojo del ajuste\n",
    "\n"
   ]
  },
  {
   "cell_type": "markdown",
   "id": "968c37c8-c301-4749-bf3c-2150faba4973",
   "metadata": {
    "tags": []
   },
   "source": [
    "### Widgets 2 gaussianas"
   ]
  },
  {
   "cell_type": "code",
   "execution_count": 11,
   "id": "e77955cf-2a5a-4284-8c39-f996a0b7e5b1",
   "metadata": {},
   "outputs": [],
   "source": [
    "xx2 = np.linspace(128, 132, num=2000)\n",
    "faux=gaussians(xx2,1,0.3,130,0.2,0.1,130.5,0.1)+np.random.normal(0.00,0.005,2000)\n",
    "masked=np.ma.masked_outside(xx2,129.5,130.5)\n",
    "mask = np.ma.getmask(masked)\n",
    "fauma=np.ma.array(faux,mask=mask)\n",
    "\n",
    "#Better widgets\n",
    "fit_range = widgets.FloatRangeSlider(\n",
    "    value=[129, 130],\n",
    "    min=xx2[1],\n",
    "    max=xx2[-2],\n",
    "    step=0.1,\n",
    "    description='Range to fit:',\n",
    "    disabled=False,\n",
    "    continuous_update=True,\n",
    "    orientation='horizontal',\n",
    "    readout=True,\n",
    "    readout_format='.3f',\n",
    "    layout={'width':'600px'},\n",
    "    style = {'description_width': 'initial'}\n",
    ")\n",
    "plot_range = widgets.FloatRangeSlider(\n",
    "    value=[xx2[1], xx2[-1]],\n",
    "    min=xx2[1],\n",
    "    max=xx2[-1],\n",
    "    step=0.1,\n",
    "    description='Range to plot:',\n",
    "    disabled=False,\n",
    "    continuous_update=False,\n",
    "    orientation='horizontal',\n",
    "    readout=True,\n",
    "    readout_format='.3f',\n",
    "    layout={'width':'600px'},\n",
    "    style = {'description_width': 'initial'}\n",
    ")\n",
    "sigma1 = widgets.FloatSlider(\n",
    "    value = 0.05,\n",
    "    min = 0.01,\n",
    "    max = 0.3,\n",
    "    step = 0.01,\n",
    "    description = 'σ(FWHM) linea 1',\n",
    "    continuous_update=True,\n",
    "    readout_format='.3f',\n",
    "    layout={'width':'600px'},\n",
    "    style = {'description_width': 'initial'})\n",
    "bsigma1 = widgets.BoundedFloatText(\n",
    "    value = 0.05,\n",
    "    min = 0.01,\n",
    "    max = 0.3,\n",
    "    step = 0.01)\n",
    "\n",
    "sigma2 = widgets.FloatSlider(\n",
    "    value = 0.05,\n",
    "    min = 0.005,\n",
    "    max = 0.3,\n",
    "    step = 0.01,\n",
    "    description = 'σ(FWHM) linea 2',\n",
    "    continuous_update=True,\n",
    "    readout_format='.3f',\n",
    "    layout={'width':'600px'},\n",
    "    style = {'description_width': 'initial'})\n",
    "bsigma2 = widgets.BoundedFloatText(\n",
    "    value = 0.05,\n",
    "    min = 0.01,\n",
    "    max = 0.3,\n",
    "    step = 0.01)\n",
    "\n",
    "cont = widgets.FloatSlider(\n",
    "    value = 1.01,\n",
    "    min = 0.91,\n",
    "    max = 1.31,\n",
    "    step = 0.02,\n",
    "    description = 'Nivel del continuo',\n",
    "    continuous_update=True,\n",
    "    readout_format='.3f',\n",
    "    layout={'width':'600px'},\n",
    "    style = {'description_width': 'initial'})\n",
    "bcont = widgets.BoundedFloatText(\n",
    "    min = 0.91,\n",
    "    max = 1.31,\n",
    "    step = 0.02,)\n",
    "\n",
    "\n",
    "int1= widgets.FloatSlider(\n",
    "    value = 0.2,\n",
    "    min = 0.01,\n",
    "    max = 0.9,\n",
    "    step = 0.02,\n",
    "    description = 'Intensidad de linea 1',\n",
    "    continuous_update=True,\n",
    "    readout_format='.3f',\n",
    "   layout={'width':'600px'},\n",
    "    style = {'description_width': 'initial'})\n",
    "bint1 = widgets.BoundedFloatText(   \n",
    "    min = 0.01,\n",
    "    max = 0.9,\n",
    "    step = 0.02)\n",
    "\n",
    "int2= widgets.FloatSlider(\n",
    "    value = 0.15,\n",
    "    min = 0.01,\n",
    "    max = 0.9,\n",
    "    step = 0.02,\n",
    "    description = 'Intensidad de linea 2',\n",
    "    continuous_update=True,\n",
    "    readout_format='.3f',\n",
    "    layout={'width':'600px'},\n",
    "    style = {'description_width': 'initial'})\n",
    "bint2 = widgets.BoundedFloatText(\n",
    "    min = 0.01,\n",
    "    max = 0.9,\n",
    "    step = 0.02,)\n",
    "\n",
    "cent1= widgets.FloatSlider(\n",
    "    value = xx2[900],\n",
    "    min = xx2[0],\n",
    "    max = xx2[-1],\n",
    "    step = 0.02,\n",
    "    description = 'Centro de linea 1',\n",
    "    continuous_update=True,\n",
    "    readout_format='.3f',\n",
    "    layout={'width':'600px'},\n",
    "    style = {'description_width': 'initial'})\n",
    "bcent1 = widgets.BoundedFloatText(\n",
    "    min = xx2[0],\n",
    "    max = xx2[-1],\n",
    "    step = 0.02,\n",
    ")\n",
    "\n",
    "cent2= widgets.FloatSlider(\n",
    "    value = xx2[1100],\n",
    "    min = xx2[0],\n",
    "    max = xx2[-1],\n",
    "    step = 0.02,\n",
    "    description = 'Centro de linea 2',\n",
    "    continuous_update=True,\n",
    "    readout_format='.3f',\n",
    "    layout={'width':'600px'},\n",
    "    style = {'description_width': 'initial'})\n",
    "bcent2 = widgets.BoundedFloatText(\n",
    "    min = xx2[0],\n",
    "    max = xx2[-1],\n",
    "    step = 0.02)\n",
    "\n",
    "plot_fit_button = widgets.ToggleButton(value=False,\n",
    "    description='Plot Fit',\n",
    "    disabled=True,\n",
    "    button_style='', # 'success', 'info', 'warning', 'danger' or ''\n",
    "    tooltip='plot gaussians',\n",
    "    icon='graph',\n",
    "    continuous_update = False,\n",
    "    width='200px')\n",
    "\n",
    "link_button = widgets.Button(value=False,\n",
    "    description='link',\n",
    "    disabled=True,\n",
    "    button_style='', # 'success', 'info', 'warning', 'danger' or ''\n",
    "    tooltip='link fit results with sliders value',\n",
    "    icon='sliders',\n",
    "    width='200px')\n",
    "\n",
    "fit_button = widgets.Button(value=False, description='Fit Parameters',icon='wrench',width='200px')\n",
    "                            \n",
    "clear_button = widgets.Button(despcription='Stop Widget',icon='warning')\n",
    "\n",
    "links = []\n",
    "param_wids = [cont,int1,cent1,sigma1,int2,cent2,sigma2]\n",
    "bparam_wids = [bcont,bint1,bcent1,bsigma1,bint2,bcent2,bsigma2]\n",
    "\n",
    "for w,b in zip(param_wids,bparam_wids):\n",
    "    links.append(widgets.link((w,'value'),(b,'value')))\n",
    "\n",
    "def fit_params(b):\n",
    "    global p2\n",
    "    p2=curve_fit(gaussians, x, y,p02)\n",
    "    plot_fit_button.disabled = False\n",
    "    \n",
    "def link_fit(b):\n",
    "    bparam_wids = [bcont,bint1,bcent1,bsigma1,bint2,bcent2,bsigma2]\n",
    "    for wid,val in zip(bparam_wids,p2[0]):\n",
    "        wid.value=val\n",
    "        \n",
    "\n",
    "def clear(b):\n",
    "    with app2:\n",
    "        clear_output()"
   ]
  },
  {
   "cell_type": "markdown",
   "id": "fbe1fe19-7bd0-44a2-a498-d700f41f78a6",
   "metadata": {
    "tags": []
   },
   "source": [
    "### APP 2"
   ]
  },
  {
   "cell_type": "code",
   "execution_count": 12,
   "id": "dc772094-81aa-4e97-92fa-fab150151d04",
   "metadata": {},
   "outputs": [],
   "source": [
    "#Genera el entorno de 2 gaussianas pero  no lo ejecuta\n",
    "xx2 = np.linspace(128, 132, num=2000)\n",
    "faux=gaussians(xx2,1,0.3,130,0.2,0.1,130.5,0.1)+np.random.normal(0.00,0.005,2000)\n",
    "masked=np.ma.masked_outside(xx2,129.5,130.5)\n",
    "mask = np.ma.getmask(masked)\n",
    "fauma=np.ma.array(faux,mask=mask)\n",
    "\n",
    "def e(rang,ab,c,inten1,m1,sigma1,inten2,m2,sigma2,plot_fit):\n",
    "    fig,ax=plt.subplots()\n",
    "\n",
    "    global p02,x,y#,fig,ax\n",
    "    ax.set_ylim(0.7, 1.03)\n",
    "    ax.set_xlim(rang[0],rang[1])\n",
    "    x,y=mask_line(xx2,faux,ab[0],ab[1])\n",
    "    p02=[c,inten1,m1,sigma1,inten2,m2,sigma2]\n",
    "    ax.plot(xx2, gaussian(xx2,c,inten1,m1,sigma1),'--',c='blue',linewidth=1,label='p0 selection for line 1')\n",
    "    ax.plot(xx2, gaussian(xx2,c,inten2,m2,sigma2),'--',c='red',linewidth=1,label='p0 selection for line 2')\n",
    "    ax.plot(xx2, gaussians(xx2,c,inten1,m1,sigma1,inten2,m2,sigma2),c='k',linewidth=1,label='p0 selection')\n",
    "    ax.plot(xx2,faux,c='grey',linewidth=0.7,alpha=0.5,label='line')\n",
    "    ax.plot(x,y,c='magenta',linewidth=0.9,label='selected for fit')\n",
    "#    plt.legend()\n",
    "\n",
    "    \n",
    "\n",
    "    if plot_fit is True:\n",
    "        cont_f,intn_f1,m_f1,sigma_f1,intn_f2,m_f2,sigma_f2=p2[0]        \n",
    "        ax.plot(x,gaussians(x,cont_f,intn_f1,m_f1,sigma_f1,intn_f2,m_f2,sigma_f2),c='k',label='fitted line')\n",
    "        link_button.disabled = False\n",
    "\n",
    "\n",
    "wids = widgets.VBox([plot_range,fit_range,\n",
    "                     HBox([cont,bcont]),\n",
    "                     HBox([int1,bint1]),\n",
    "                     HBox([cent1,bcent1]),\n",
    "                     HBox([sigma1,bsigma1]),\n",
    "                     HBox([int2,bint2]),\n",
    "                     HBox([cent2,bcent2]),\n",
    "                     HBox([sigma2,bsigma2]),\n",
    "                     HBox([fit_button,plot_fit_button,link_button,clear_button])\n",
    "                    ],)\n",
    "interactive_plot = interactive_output(e,{'rang':plot_range,'ab':fit_range,'c':cont,\n",
    "                               'inten1':int1, 'm1':cent1, 'sigma1':sigma1,\n",
    "                               'inten2':int2, 'm2':cent2, 'sigma2':sigma2,\n",
    "                               'plot_fit':plot_fit_button})\n",
    "\n",
    "link_button.on_click(link_fit)\n",
    "fit_button.on_click(fit_params)\n",
    "clear_button.on_click(clear)\n",
    "app2 = widgets.AppLayout(header=None,\n",
    "          left_sidebar=wids,\n",
    "          center=None,\n",
    "          right_sidebar=interactive_plot,\n",
    "          footer=None,\n",
    "          pane_widths=['620px','0px','600px'],\n",
    "          )"
   ]
  },
  {
   "cell_type": "markdown",
   "id": "96c7d28c-07ae-4e21-97e8-d8d2546b964d",
   "metadata": {},
   "source": [
    "## APP"
   ]
  },
  {
   "cell_type": "code",
   "execution_count": 13,
   "id": "0c4badc8-2ff0-4c14-9731-29aebcc11d7b",
   "metadata": {},
   "outputs": [
    {
     "data": {
      "application/vnd.jupyter.widget-view+json": {
       "model_id": "8be020e32b604323ae7b1f26a7a91e75",
       "version_major": 2,
       "version_minor": 0
      },
      "text/plain": [
       "Tab(children=(AppLayout(children=(VBox(children=(FloatRangeSlider(value=(128.00200100050026, 132.0), continuou…"
      ]
     },
     "execution_count": 13,
     "metadata": {},
     "output_type": "execute_result"
    }
   ],
   "source": [
    "#Crea las pestañas con lo que definimos arriba\n",
    "\n",
    "tab = widgets.Tab()\n",
    "tab.children = [app,app2]\n",
    "tab.titles = ['1 Linea','2 Lineas']\n",
    "tab"
   ]
  },
  {
   "cell_type": "code",
   "execution_count": null,
   "id": "1e635cb8-8d8e-4e57-9d48-6e2360560648",
   "metadata": {},
   "outputs": [],
   "source": [
    "params1=['Continuo','intensidad central', 'centro de línea','dispersion']\n",
    "print(\"Parametros de ajuste 1 linea guardados en p1\")\n",
    "for i,param in enumerate(params1):\n",
    "    print (f\"{param} is {p1[0][i]}\")\n",
    "    \n"
   ]
  },
  {
   "cell_type": "code",
   "execution_count": null,
   "id": "cbbd2261-74e2-47f4-9022-9bb42f8113c4",
   "metadata": {},
   "outputs": [],
   "source": [
    "params2=['Continuo','intensidad central 1', 'centro de línea 1','dispersion 1','intensidad central1', 'centro de línea1','dispersion1']\n",
    "print(\"Parámetros de ajuste 2 linea guardados en p2\")\n",
    "for i,param in enumerate(params2):\n",
    "    print (f\"{param} is {p2[0][i]}\")\n",
    "    "
   ]
  },
  {
   "cell_type": "markdown",
   "id": "f543f1d3-ce86-44bf-b11e-e6ad85a7b433",
   "metadata": {},
   "source": [
    "La linea cyan muestra la gaussiana generada para los parametros 1, la magenta para la generada por parametros 2\n",
    "\n",
    "la negra es una suma de ambas(parecido a los que muestra iraf, solo que pre-fiteo) \n",
    "\n",
    "si estan muy separadas, la negra va a tapar las 2 indiduales; \n",
    "\n",
    "la roja es el ajuste."
   ]
  }
 ],
 "metadata": {
  "kernelspec": {
   "display_name": "widg",
   "language": "python",
   "name": "testestes"
  },
  "language_info": {
   "codemirror_mode": {
    "name": "ipython",
    "version": 3
   },
   "file_extension": ".py",
   "mimetype": "text/x-python",
   "name": "python",
   "nbconvert_exporter": "python",
   "pygments_lexer": "ipython3",
   "version": "3.10.6"
  }
 },
 "nbformat": 4,
 "nbformat_minor": 5
}
