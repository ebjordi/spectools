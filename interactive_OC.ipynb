{
 "cells": [
  {
   "cell_type": "markdown",
   "id": "e095da52-e6d8-4795-bc7f-b5401b66df3e",
   "metadata": {},
   "source": [
    "Plot de regiones interactivo, agregar segmentos a reg y usar como parametros para OC"
   ]
  },
  {
   "cell_type": "code",
   "execution_count": 1,
   "id": "85d73e3b-6e15-4a41-8482-9c6eaa61c97e",
   "metadata": {},
   "outputs": [],
   "source": [
    "import ipywidgets as widgets\n",
    "from ipywidgets.widgets import HBox,VBox\n",
    "import matplotlib.pyplot as plt\n",
    "import matplotlib as mpl\n",
    "from ipywidgets import interactive, interactive_output\n",
    "import numpy as np\n",
    "from scipy.optimize import curve_fit\n",
    "from IPython.display import clear_output\n",
    "import numpy as np\n",
    "from scipy.interpolate import interp1d\n",
    "from astropy.constants import c\n",
    "import astropy.io.fits as pf\n",
    "\n",
    "\n",
    "cvel = c.to('km/s').value"
   ]
  },
  {
   "cell_type": "code",
   "execution_count": 2,
   "id": "698adcb0-8df4-4cc2-a545-ce865776bc00",
   "metadata": {},
   "outputs": [
    {
     "data": {
      "application/vnd.jupyter.widget-view+json": {
       "model_id": "cbad570b17364e8881414f4415b85a89",
       "version_major": 2,
       "version_minor": 0
      },
      "text/plain": [
       "FloatRangeSlider(value=(5.0, 7.5), continuous_update=False, description='Test:', max=10.0, readout_format='.3f…"
      ]
     },
     "metadata": {},
     "output_type": "display_data"
    },
    {
     "data": {
      "application/vnd.jupyter.widget-view+json": {
       "model_id": "455a9cad072a45f1a9a142d0300384fa",
       "version_major": 2,
       "version_minor": 0
      },
      "text/plain": [
       "Button(description='add', icon='sliders', style=ButtonStyle(), tooltip='add region')"
      ]
     },
     "metadata": {},
     "output_type": "display_data"
    }
   ],
   "source": [
    "c=widgets.FloatRangeSlider(\n",
    "    value=[5, 7.5],\n",
    "    min=0,\n",
    "    max=10.0,\n",
    "    step=0.1,\n",
    "    description='Test:',\n",
    "    disabled=False,\n",
    "    continuous_update=False,\n",
    "    orientation='horizontal',\n",
    "    readout=True,\n",
    "    readout_format='.3f',\n",
    ")\n",
    "\n",
    "add_reg_button = widgets.Button(value=False,\n",
    "    description='add',\n",
    "    disabled=False,\n",
    "    button_style='', # 'success', 'info', 'warning', 'danger' or ''\n",
    "    tooltip='add region',\n",
    "    icon='sliders',\n",
    "    width='200px')\n",
    "reg = []\n",
    "def add_to_regions(b, reg = reg):\n",
    "    reg.append(c.value)\n",
    "    return reg\n",
    "\n",
    "add_reg_button.on_click(add_to_regions)\n",
    "\n",
    "display(c,add_reg_button)\n"
   ]
  },
  {
   "cell_type": "code",
   "execution_count": null,
   "id": "2cf7f245-13c6-4bf9-8300-722d84e9d83f",
   "metadata": {},
   "outputs": [],
   "source": [
    "reg"
   ]
  },
  {
   "cell_type": "code",
   "execution_count": null,
   "id": "d85c4da0-5b78-4459-8df4-a4eb7ff6d4b1",
   "metadata": {},
   "outputs": [],
   "source": [
    "#plot input models and spec"
   ]
  },
  {
   "cell_type": "code",
   "execution_count": 3,
   "id": "6322ab99-894c-44b0-86af-40d3a73e0046",
   "metadata": {},
   "outputs": [],
   "source": [
    "from spectools import utils"
   ]
  },
  {
   "cell_type": "code",
   "execution_count": 4,
   "id": "2a613f55-cff2-40cd-a8f2-3d1742bc1095",
   "metadata": {},
   "outputs": [],
   "source": [
    "def ascii_spec(filename):\n",
    "    a = np.genfromtxt(filename,delimiter = '  ')\n",
    "    w = a[:,0]\n",
    "    f = a[:,-1]\n",
    "    return w,f\n",
    "\n",
    "def open_shift(A : str, B : str , va : (float, np.float64), vb : (float, np.float64), \n",
    "               a : (float,np.float64) = None, b : (float,np.float64) = None ):\n",
    "    wa,fa = ascii_spec(A)\n",
    "    wb,fb = ascii_spec(B)\n",
    "    #Aplico cotas \n",
    "    if a is not None:\n",
    "        fa = fa[wa>a]\n",
    "        wa = wa[wa>a]\n",
    "        fb = fb[wb>a]\n",
    "        wb = wb[wb>a]\n",
    "    if b is not None:\n",
    "        fa = fa[wa<b]\n",
    "        wa = wa[wa<b]\n",
    "        fb = fb[wb<b]\n",
    "        wb = wb[wb<b]\n",
    "    fa_shift = shift(wa, fa, va)\n",
    "    fb_shift = shift(wb, fb, vb, wa)#va a resamplear con el eje de wa, \n",
    "                                    #si son modelos del mismo programa \n",
    "                                    #deberían ser similares, pero el \n",
    "                                    #doppler shift puede cambiarlo\n",
    "    #Me aseguro que los arrays tengan el mismo largo\n",
    "    if len(fb_shift) > len(fa_shift):\n",
    "        arr_len = len(fa_shift)\n",
    "    else: arr_len = len(fb_shift)\n",
    "    \n",
    "    w1=wa[:arr_len]\n",
    "    fa_s=fa_shift[:arr_len]\n",
    "    fb_s=fb_shift[:arr_len]\n",
    "    # A partir de acá los dos modelos tienen el mismo eje de dispersion\n",
    "    return w1,fa_s,fb_s\n",
    "\n",
    "def shift(wvl,flux,v,new_wvl = None):\n",
    "    wlprime = wvl * (1.0 + v / cvel)\n",
    "    if new_wvl is not None:\n",
    "        wvl = new_wvl\n",
    "    nflux = interp1d(wlprime, flux, bounds_error=False, fill_value=1)(wvl)\n",
    "    return nflux\n",
    "\n",
    "def open_file(filename): #for 1Dspecs ?\n",
    "    hdu = pf.open(filename)\n",
    "    data = hdu[0].data\n",
    "    header = hdu[0].header\n",
    "    wave = wavelength(header)\n",
    "    return wave,data\n",
    "\n",
    "def wavelength(header):\n",
    "    wave = [header['CRVAL1'] + header['CDELT1'] * i for i in range(header['NAXIS1'])]\n",
    "    return np.array(wave)\n",
    "\n",
    "def mask_line(x,y,a,b):\n",
    "    x_ma=np.ma.masked_outside(x,a,b)\n",
    "    mask = np.ma.getmask(x_ma)\n",
    "    f_ma=np.ma.array(y,mask=mask)    \n",
    "    return x_ma,f_ma"
   ]
  },
  {
   "cell_type": "code",
   "execution_count": null,
   "id": "e1a67980-4d5c-4bfd-b015-6fb14996e671",
   "metadata": {},
   "outputs": [],
   "source": [
    "#A = 'T350g370.asc'\n",
    "#B = 'T300g380.asc'\n",
    "#v1=-100\n",
    "#v2=300\n",
    "\n",
    "#w1, fa_s, fb_s = open_shift(A,B,v1,v2,b=7000)\n",
    "\n",
    "#dils = [0.6,0.65,0.7,0.75,0.8,0.85]\n",
    "#lines=[(4080,4112),(4330,4346),(4845,4875),(4019,4035),(5868,5885),(4682,4693),(4197,4203),(4537,4543),(4682,4686),(5400,5417)]\n",
    "#Esto son etiquetas para el mapa de color\n",
    "\n",
    "#labels_y = [str(d) for d in dils]\n",
    "#labels_x = [str(l) for l in lines]\n",
    "\n",
    "tests = OC_dils(w1,fa_s,fb_s,wo,fo,dils,lines)"
   ]
  },
  {
   "cell_type": "code",
   "execution_count": 5,
   "id": "bcc7c500-c6a6-47e4-a52c-347ad7a58693",
   "metadata": {},
   "outputs": [
    {
     "name": "stderr",
     "output_type": "stream",
     "text": [
      "WARNING: The following header keyword is invalid or follows an unrecognized non-standard convention:\n",
      "IMPORTANT The spectrum is NOT corrected from barycentric velocity                [astropy.io.fits.card]\n",
      "WARNING: The following header keyword is invalid or follows an unrecognized non-standard convention:\n",
      "IMPORTANT Use the keyword I_VBAR to correct from barycentric velocity            [astropy.io.fits.card]\n",
      "WARNING: The following header keyword is invalid or follows an unrecognized non-standard convention:\n",
      "IMPORTANT This fits file includes a normalized and the orig. merged spect.       [astropy.io.fits.card]\n",
      "WARNING: The following header keyword is invalid or follows an unrecognized non-standard convention:\n",
      "VERY IMPORTANT ** The I_SPC keyword below is only orientative, no definitive. ** [astropy.io.fits.card]\n",
      "WARNING: The following header keyword is invalid or follows an unrecognized non-standard convention:\n",
      "VERY IMPORTANT ** Please, use it carefully, not as a reference !!!            ** [astropy.io.fits.card]\n"
     ]
    }
   ],
   "source": [
    "wo,fo=open_file('HD37043_20170408_201940_M_V85000.fits')\n",
    "fo = fo[0]\n",
    "A = 'T350g370.asc'\n",
    "B = 'T300g380.asc'\n",
    "v1=-100\n",
    "v2=300\n",
    "\n",
    "w1, fa_s, fb_s = open_shift(A,B,v1,v2,b=7000)"
   ]
  },
  {
   "cell_type": "code",
   "execution_count": 13,
   "id": "fb789a9d-3117-4955-8e90-51fe25099743",
   "metadata": {},
   "outputs": [],
   "source": [
    "fit_range1 = widgets.FloatRangeSlider(\n",
    "    value=[4000, 5000],\n",
    "    min=wo[1],\n",
    "    max=wo[-2],\n",
    "    step=0.1,\n",
    "    description='Range to fit:',\n",
    "    disabled=False,\n",
    "    continuous_update=True,\n",
    "    orientation='horizontal',\n",
    "    readout=True,\n",
    "    readout_format='.3f',\n",
    "    layout={'width':'600px'},\n",
    "    style = {'description_width': 'initial'}\n",
    ")\n",
    "\n",
    "plot_range1 = widgets.FloatRangeSlider(\n",
    "    value=[wo[1], wo[-2]],\n",
    "    min=wo[0],\n",
    "    max=wo[-1],\n",
    "    step=0.1,\n",
    "    description='Range to plot:',\n",
    "    disabled=False,\n",
    "    continuous_update=False,\n",
    "    orientation='horizontal',\n",
    "    readout=True,\n",
    "    readout_format='.3f',\n",
    "    layout={'width':'600px'},\n",
    "    style = {'description_width': 'initial'}\n",
    ")\n",
    "\n",
    "dilution0 = widgets.FloatSlider(\n",
    "    value= 0.5,\n",
    "    min = 0.01,\n",
    "    max = 1.,\n",
    "    step = 0.01,\n",
    "    description='Dilution',\n",
    "    disabled=False,\n",
    "    readout=True,\n",
    "    readout_format='.3f',\n",
    "    orientation='vertical')\n",
    "\n",
    "ylim = widgets.FloatRangeSlider(\n",
    "    value= [0.5,1.2],\n",
    "    min = 0.01,\n",
    "    max = 1.5,\n",
    "    step = 0.01,\n",
    "    description='ylim',\n",
    "    disabled=False,\n",
    "    readout=True,\n",
    "    readout_format='.3f',\n",
    "    orientation='vertical')"
   ]
  },
  {
   "cell_type": "code",
   "execution_count": 20,
   "id": "e064bc48-c686-4fb9-b8a7-b7cd6276b881",
   "metadata": {},
   "outputs": [
    {
     "data": {
      "application/vnd.jupyter.widget-view+json": {
       "model_id": "26644990cce94662b10585cd9b383962",
       "version_major": 2,
       "version_minor": 0
      },
      "text/plain": [
       "AppLayout(children=(VBox(children=(FloatRangeSlider(value=(3763.75, 9006.34375), continuous_update=False, desc…"
      ]
     },
     "execution_count": 20,
     "metadata": {},
     "output_type": "execute_result"
    }
   ],
   "source": [
    "def d(rang,ab,dil,ylim):\n",
    "    fig,ax=plt.subplots()\n",
    "\n",
    "#    global p0,v,w#,fig,ax\n",
    "    ax.set_ylim(ylim[0], ylim[1])\n",
    "    ax.set_xlim(rang[0],rang[1])\n",
    "    v,w=mask_line(x,y,ab[0],ab[1])\n",
    "#    p0=[c,inten,m,sigma]\n",
    "    ax.plot(x, y,c='grey',linewidth=1,label='observed')\n",
    "#    ax.plot(w1,f1*dil+1-dil,c='cyan',linewidth=0.7,alpha=0.5,label='model1')\n",
    "#    ax.plot(w1,f2*(1-dil)+dil,c='magenta',linewidth=0.7,alpha=0.5,label='model2')\n",
    "    ax.plot(v,w,c='green',linewidth=0.9,label='selected for fit')\n",
    "#    plt.legend()\n",
    "\n",
    "add_reg_button = widgets.Button(value=False,\n",
    "    description='add',\n",
    "    disabled=False,\n",
    "    button_style='', # 'success', 'info', 'warning', 'danger' or ''\n",
    "    tooltip='add region',\n",
    "    icon='sliders',\n",
    "    width='200px')\n",
    "\n",
    "reg = []\n",
    "x=wo\n",
    "y=fo\n",
    "f1=fa_s\n",
    "f2=fb_s\n",
    "\n",
    "def add_to_regions(b, reg = reg):\n",
    "    reg.append(fit_range1.value)\n",
    "    return reg\n",
    "\n",
    "add_reg_button.on_click(add_to_regions)\n",
    "wids1 = widgets.VBox([plot_range1,fit_range1,\n",
    "                     HBox([add_reg_button])\n",
    "                    ],)\n",
    "interactive_plot1 = interactive_output(d,{'rang':plot_range1,'ab':fit_range1,'dil':dilution0,'ylim':ylim})\n",
    "app = widgets.AppLayout(header=None,\n",
    "          left_sidebar=wids1,\n",
    "          center=widgets.VBox([dilution0,ylim]),\n",
    "          right_sidebar=interactive_plot1,\n",
    "          footer=None,\n",
    "          pane_widths=['620px','90px','600px'],\n",
    "          )\n",
    "app\n"
   ]
  },
  {
   "cell_type": "code",
   "execution_count": 18,
   "id": "6bbacecc-b6f2-4e4a-b16d-690ad8d5a818",
   "metadata": {},
   "outputs": [
    {
     "data": {
      "text/plain": [
       "[(4000.05, 5000.05), (5423.45, 6423.45), (5423.45, 7367.85)]"
      ]
     },
     "execution_count": 18,
     "metadata": {},
     "output_type": "execute_result"
    }
   ],
   "source": [
    "reg"
   ]
  },
  {
   "cell_type": "code",
   "execution_count": null,
   "id": "bec06655-9af1-48b9-b449-befb84b057e4",
   "metadata": {},
   "outputs": [],
   "source": [
    "rang = (wo[0],wo[-1])\n",
    "ab= [3800,4000]\n",
    "x=wo\n",
    "y=fo\n",
    "f1=fa_s\n",
    "f2=fb_s\n",
    "fig,ax=plt.subplots()\n",
    "\n",
    "ax.set_ylim(0.5, 1.03)\n",
    "ax.set_xlim(rang[0],rang[1])\n",
    "v,w=mask_line(x,y,ab[0],ab[1])\n",
    "#    p0=[c,inten,m,sigma]\n",
    "ax.plot(x, y,c='grey',linewidth=1,label='observed')\n",
    "ax.plot(w1,f1,c='cyan',linewidth=0.7,alpha=0.5,label='model1')\n",
    "ax.plot(w1,f2,c='magenta',linewidth=0.7,alpha=0.5,label='model2')\n",
    "ax.plot(v,w,c='green',linewidth=0.9,label='selected for fit')"
   ]
  },
  {
   "cell_type": "code",
   "execution_count": null,
   "id": "20c4708c-7c37-45a0-b1b2-77425a8225d1",
   "metadata": {},
   "outputs": [],
   "source": []
  }
 ],
 "metadata": {
  "kernelspec": {
   "display_name": "widg",
   "language": "python",
   "name": "testestes"
  },
  "language_info": {
   "codemirror_mode": {
    "name": "ipython",
    "version": 3
   },
   "file_extension": ".py",
   "mimetype": "text/x-python",
   "name": "python",
   "nbconvert_exporter": "python",
   "pygments_lexer": "ipython3",
   "version": "3.8.13"
  }
 },
 "nbformat": 4,
 "nbformat_minor": 5
}
